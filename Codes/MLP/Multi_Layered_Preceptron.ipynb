{
  "nbformat": 4,
  "nbformat_minor": 0,
  "metadata": {
    "colab": {
      "name": "Multi_Layered_Preceptron.ipynb",
      "provenance": [],
      "collapsed_sections": [],
      "toc_visible": true,
      "include_colab_link": true
    },
    "kernelspec": {
      "name": "python3",
      "display_name": "Python 3"
    },
    "language_info": {
      "name": "python"
    }
  },
  "cells": [
    {
      "cell_type": "markdown",
      "metadata": {
        "id": "view-in-github",
        "colab_type": "text"
      },
      "source": [
        "<a href=\"https://colab.research.google.com/github/patty-13/30_Days_Deeplearning/blob/main/Codes/MLP/Multi_Layered_Preceptron.ipynb\" target=\"_parent\"><img src=\"https://colab.research.google.com/assets/colab-badge.svg\" alt=\"Open In Colab\"/></a>"
      ]
    },
    {
      "cell_type": "markdown",
      "source": [
        "<center><h1>Multi Layered Perceptron</h1></center>\n",
        "\n",
        "Now we will implement the MLP using Keras library you can read more about its documentation here [Keras](https://keras.io). \n",
        "\n",
        "We will use MNIST data set to implement this. To refer more about the data set visit this [here](https://en.wikipedia.org/wiki/MNIST_database).\n",
        "\n",
        "Refer this for more [information](https://www.tensorflow.org/datasets/keras_example)\n"
      ],
      "metadata": {
        "id": "xUQ-quA807rq"
      }
    },
    {
      "cell_type": "markdown",
      "source": [
        "## Importing Libraries"
      ],
      "metadata": {
        "id": "Zb5aY8MB1xrQ"
      }
    },
    {
      "cell_type": "code",
      "source": [
        "import tensorflow as tf\n",
        "import tensorflow_datasets as tfds\n",
        "from matplotlib import pyplot as plt"
      ],
      "metadata": {
        "id": "D1pEPmqx06v5"
      },
      "execution_count": 11,
      "outputs": []
    },
    {
      "cell_type": "markdown",
      "source": [
        "## Loading the dataset"
      ],
      "metadata": {
        "id": "_nTKEf4f10iw"
      }
    },
    {
      "cell_type": "code",
      "source": [
        "# Loading data set\n",
        "(ds_train, ds_test), ds_info = tfds.load(\n",
        "    'mnist',\n",
        "    split=['train', 'test'],\n",
        "    shuffle_files=True,\n",
        "    as_supervised=True,\n",
        "    with_info=True,\n",
        ")\n",
        "\n",
        "# The info about the dataset\n",
        "#print(ds_info)"
      ],
      "metadata": {
        "id": "4fJAdZ_z1dti"
      },
      "execution_count": 2,
      "outputs": []
    },
    {
      "cell_type": "markdown",
      "source": [
        "## Creating a Training Pipline"
      ],
      "metadata": {
        "id": "SEalgL9E4bjn"
      }
    },
    {
      "cell_type": "code",
      "source": [
        "# Normalize the images\n",
        "# Converting the images to float - > 32 format \n",
        "def normalize_img(image, label):\n",
        "  \"\"\"Normalizes images: `uint8` -> `float32`.\"\"\"\n",
        "  return tf.cast(image, tf.float32) / 255., label\n",
        "\n",
        "#TFDS provide images of type tf.uint8, while the model expects tf.float32. Therefore, you need to normalize images.\n",
        "ds_train = ds_train.map(    normalize_img, num_parallel_calls=tf.data.AUTOTUNE)\n",
        "\n",
        "#This will  fit the dataset in memory, cache it before shuffling for a better performance.\n",
        "ds_train = ds_train.cache()\n",
        "\n",
        "# : For true randomness, set the shuffle buffer to the full dataset size.\n",
        "ds_train = ds_train.shuffle(ds_info.splits['train'].num_examples)\n",
        "\n",
        "# Batch elements of the dataset after shuffling to get unique batches at each epoch.\n",
        "ds_train = ds_train.batch(256)\n",
        "\n",
        "# It is good practice to end the pipeline by prefetching for performance \n",
        "# Refer (https://www.tensorflow.org/guide/data_performance#prefetching)\n",
        "ds_train = ds_train.prefetch(tf.data.AUTOTUNE)\n",
        "\n",
        "\n",
        "# Repeating the steps for test dataset\n",
        "ds_test = ds_test.map(\n",
        "    normalize_img, num_parallel_calls=tf.data.AUTOTUNE)\n",
        "ds_test = ds_test.batch(256)\n",
        "ds_test = ds_test.cache()\n",
        "ds_test = ds_test.prefetch(tf.data.AUTOTUNE)"
      ],
      "metadata": {
        "id": "ma4QiKfz3iAB"
      },
      "execution_count": 3,
      "outputs": []
    },
    {
      "cell_type": "markdown",
      "source": [
        "## Creating the model\n",
        "We plug the TFDS input pipeline into a simple Keras model, compile the model, and train it."
      ],
      "metadata": {
        "id": "B12uWc1v3Q9x"
      }
    },
    {
      "cell_type": "code",
      "source": [
        "# We want to flaten the shape of the imputs\n",
        "# Then we add a 128 neurons network \n",
        "# After that a output layer with 10 nodes for different classes \n",
        "model = tf.keras.models.Sequential([                                    \n",
        "  tf.keras.layers.Flatten(input_shape=(28, 28)),\n",
        "  tf.keras.layers.Dense(256, activation='relu'),\n",
        "  tf.keras.layers.Dense(10)\n",
        "])\n",
        "\n",
        "# Then we complie the model and optimze it with adam optimizer\n",
        "# We use a categorical cross entropy loss \n",
        "model.compile(\n",
        "    optimizer=tf.keras.optimizers.Adam(0.001),\n",
        "    loss=tf.keras.losses.SparseCategoricalCrossentropy(from_logits=True),\n",
        "    metrics=[tf.keras.metrics.SparseCategoricalAccuracy()],\n",
        ")\n",
        "\n",
        "# Then we fit the model for 6 epochs and then pring the result\n",
        "results = model.fit(\n",
        "    ds_train,\n",
        "    epochs=6,\n",
        "    validation_data=ds_test,\n",
        ")"
      ],
      "metadata": {
        "colab": {
          "base_uri": "https://localhost:8080/"
        },
        "id": "jyej17Ba2tFm",
        "outputId": "2ba0cb9d-5deb-428a-8067-ace52d87d397"
      },
      "execution_count": 8,
      "outputs": [
        {
          "output_type": "stream",
          "name": "stdout",
          "text": [
            "Epoch 1/6\n",
            "235/235 [==============================] - 3s 11ms/step - loss: 0.3819 - sparse_categorical_accuracy: 0.8952 - val_loss: 0.1972 - val_sparse_categorical_accuracy: 0.9452\n",
            "Epoch 2/6\n",
            "235/235 [==============================] - 3s 10ms/step - loss: 0.1689 - sparse_categorical_accuracy: 0.9529 - val_loss: 0.1393 - val_sparse_categorical_accuracy: 0.9599\n",
            "Epoch 3/6\n",
            "235/235 [==============================] - 3s 14ms/step - loss: 0.1197 - sparse_categorical_accuracy: 0.9661 - val_loss: 0.1132 - val_sparse_categorical_accuracy: 0.9661\n",
            "Epoch 4/6\n",
            "235/235 [==============================] - 3s 13ms/step - loss: 0.0911 - sparse_categorical_accuracy: 0.9737 - val_loss: 0.0963 - val_sparse_categorical_accuracy: 0.9715\n",
            "Epoch 5/6\n",
            "235/235 [==============================] - 3s 10ms/step - loss: 0.0728 - sparse_categorical_accuracy: 0.9791 - val_loss: 0.0833 - val_sparse_categorical_accuracy: 0.9742\n",
            "Epoch 6/6\n",
            "235/235 [==============================] - 2s 10ms/step - loss: 0.0592 - sparse_categorical_accuracy: 0.9835 - val_loss: 0.0909 - val_sparse_categorical_accuracy: 0.9723\n"
          ]
        }
      ]
    },
    {
      "cell_type": "markdown",
      "source": [
        "## Model Summary"
      ],
      "metadata": {
        "id": "m9ZzPb259rln"
      }
    },
    {
      "cell_type": "code",
      "source": [
        "# The shape of our neural network\n",
        "model.summary()"
      ],
      "metadata": {
        "colab": {
          "base_uri": "https://localhost:8080/"
        },
        "id": "vEuueVi99v4H",
        "outputId": "40b7cdf5-5641-482d-cfb1-9e1aedd68c7d"
      },
      "execution_count": 18,
      "outputs": [
        {
          "output_type": "stream",
          "name": "stdout",
          "text": [
            "Model: \"sequential_1\"\n",
            "_________________________________________________________________\n",
            " Layer (type)                Output Shape              Param #   \n",
            "=================================================================\n",
            " flatten_1 (Flatten)         (None, 784)               0         \n",
            "                                                                 \n",
            " dense_2 (Dense)             (None, 256)               200960    \n",
            "                                                                 \n",
            " dense_3 (Dense)             (None, 10)                2570      \n",
            "                                                                 \n",
            "=================================================================\n",
            "Total params: 203,530\n",
            "Trainable params: 203,530\n",
            "Non-trainable params: 0\n",
            "_________________________________________________________________\n"
          ]
        }
      ]
    },
    {
      "cell_type": "markdown",
      "source": [
        "## Accuracies of the model"
      ],
      "metadata": {
        "id": "cZUeIXw070LU"
      }
    },
    {
      "cell_type": "code",
      "source": [
        "# printing the accuracy of the model\n",
        "model.evaluate(ds_test)"
      ],
      "metadata": {
        "colab": {
          "base_uri": "https://localhost:8080/"
        },
        "id": "s0Zg68uQ5kqT",
        "outputId": "60df078f-8283-452a-cfc3-776b58454d9e"
      },
      "execution_count": 9,
      "outputs": [
        {
          "output_type": "stream",
          "name": "stdout",
          "text": [
            "40/40 [==============================] - 0s 4ms/step - loss: 0.0909 - sparse_categorical_accuracy: 0.9723\n"
          ]
        },
        {
          "output_type": "execute_result",
          "data": {
            "text/plain": [
              "[0.09086985141038895, 0.9722999930381775]"
            ]
          },
          "metadata": {},
          "execution_count": 9
        }
      ]
    },
    {
      "cell_type": "code",
      "source": [
        "plt.plot(results.history['loss'])\n",
        "plt.plot(results.history['val_loss'])\n",
        "plt.title('model loss')\n",
        "plt.ylabel('loss')\n",
        "plt.xlabel('epoch')\n",
        "plt.legend(['train', 'val'], loc='upper left')\n",
        "plt.show()"
      ],
      "metadata": {
        "colab": {
          "base_uri": "https://localhost:8080/",
          "height": 295
        },
        "id": "Dvbc-5fP6lu6",
        "outputId": "d3768c0c-8e18-4918-c95f-dd5f7640dd64"
      },
      "execution_count": 17,
      "outputs": [
        {
          "output_type": "display_data",
          "data": {
            "image/png": "[encoded data removed]",
            "text/plain": [
              "<Figure size 432x288 with 1 Axes>"
            ]
          },
          "metadata": {
            "needs_background": "light"
          }
        }
      ]
    }
  ]
}